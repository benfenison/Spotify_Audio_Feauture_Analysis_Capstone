{
 "cells": [
  {
   "cell_type": "markdown",
   "metadata": {},
   "source": [
    "<h1><center> Data Collection - RIAA!</center></h1>"
   ]
  },
  {
   "attachments": {
    "RIAA.jpg": {
     "image/jpeg": "[encoded data removed]"
    }
   },
   "cell_type": "markdown",
   "metadata": {},
   "source": [
    "![RIAA.jpg](attachment:RIAA.jpg)"
   ]
  },
  {
   "cell_type": "markdown",
   "metadata": {},
   "source": [
    "### Who is the RIAA?\n",
    "\n",
    "> The RIAA (Record Industry Association of America) is a trade organization that has a big influence in the recording Industry and apoints certifications to 'Singles' & 'Albums' based on certain qualifications.\n",
    "\n",
    "### Sales\n",
    " - Gold: 500,000 units\n",
    " - Platinum: 1,000,000 units\n",
    " - Multi-Platinum: 2,000,000 units (increments of 1,000,000 thereafter)\n",
    " - Diamond: 10,000,000 units\n"
   ]
  },
  {
   "cell_type": "markdown",
   "metadata": {},
   "source": [
    "#### In order to view musical features that contribute to a song being awarded a certification, I first have to gather songs that have won awards."
   ]
  },
  {
   "cell_type": "code",
   "execution_count": 1,
   "metadata": {},
   "outputs": [],
   "source": [
    "import pandas as pd\n",
    "import requests as re\n",
    "import json\n",
    "import numpy as np\n",
    "import time\n",
    "from selenium import webdriver\n",
    "from splinter import Browser\n",
    "import re\n",
    "\n",
    "from bs4 import BeautifulSoup as bs"
   ]
  },
  {
   "cell_type": "markdown",
   "metadata": {},
   "source": [
    "### Selenium "
   ]
  },
  {
   "cell_type": "markdown",
   "metadata": {},
   "source": [
    "Since the RIAA website is a continous webpage, I set up Selenium, which is normally used as a portable software-testing framework for web applications; But in this case I will be using it to auto-click the refresh button on the RIAA website in order to web scrape all the songs from 2000 - 2018 that won awards. "
   ]
  },
  {
   "cell_type": "code",
   "execution_count": 4,
   "metadata": {
    "scrolled": true
   },
   "outputs": [],
   "source": [
    "executable_path = {'executable_path':'/Users/benjaminnew/Downloads/chromedriver'}\n",
    "browse = Browser('chrome', **executable_path\n",
    "                )\n",
    "\n",
    "browse.visit('https://www.riaa.com/gold-platinum/?tab_active=default-award&ar=&ti=&lab=&genre=&format=Single&date_option=release&from=2000-01-01&to=2018-09-17&award=&type=&category=&adv=SEARCH#search_section')\n",
    "next_page = browse.find_by_xpath('//*[@id=\"loadmore\"]/span')\n",
    "next_page.click()\n",
    "for i in range(138):\n",
    "    next_page.click()\n",
    "    time.sleep(2)"
   ]
  },
  {
   "cell_type": "markdown",
   "metadata": {},
   "source": [
    "- Collecting all my rows by finding the 'td' tag which represnts each item in every table"
   ]
  },
  {
   "cell_type": "code",
   "execution_count": 3,
   "metadata": {},
   "outputs": [],
   "source": [
    "song_data = browse.find_by_tag('td')\n",
    "song_info = [element.value for element in song_data]"
   ]
  },
  {
   "cell_type": "markdown",
   "metadata": {},
   "source": [
    "- Sending my html through beautiful soup which strips the html text from my file"
   ]
  },
  {
   "cell_type": "code",
   "execution_count": 4,
   "metadata": {},
   "outputs": [],
   "source": [
    "soup = bs(browse.html, 'lxml')\n",
    "award_soup = soup.find_all('figure', {'class':'award_block_icon'})\n",
    "award_soup_string = [str(award) for award in award_soup]"
   ]
  },
  {
   "cell_type": "markdown",
   "metadata": {},
   "source": [
    "- Appending each aspect of a song into a single list"
   ]
  },
  {
   "cell_type": "code",
   "execution_count": 5,
   "metadata": {},
   "outputs": [],
   "source": [
    "award =[]\n",
    "num_1 = 0\n",
    "for i in range(4142):\n",
    "    award.append(re.findall(r'\\d+', award_soup_string[num_1]))\n",
    "    num_1+= 1"
   ]
  },
  {
   "cell_type": "code",
   "execution_count": 26,
   "metadata": {},
   "outputs": [],
   "source": [
    "awards = pd.DataFrame(award , columns = ['award'])"
   ]
  },
  {
   "cell_type": "code",
   "execution_count": 7,
   "metadata": {
    "scrolled": true
   },
   "outputs": [
    {
     "data": {
      "text/plain": [
       "['SHARE',\n",
       " 'THE CHAINSMOKERS & TRITONAL',\n",
       " 'UNTIL YOU WERE GONE (FEAT. EMILY WARREN)',\n",
       " 'September 17, 2018',\n",
       " 'COLUMBIA',\n",
       " 'SINGLE\\nMORE DETAILS',\n",
       " '']"
      ]
     },
     "execution_count": 7,
     "metadata": {},
     "output_type": "execute_result"
    }
   ],
   "source": [
    "song_info[0:7]"
   ]
  },
  {
   "cell_type": "markdown",
   "metadata": {},
   "source": [
    "- Seperating each 7 featueres into its own list & appending it to a grand list \n",
    "- Sending it to a Data Frame"
   ]
  },
  {
   "cell_type": "code",
   "execution_count": 8,
   "metadata": {},
   "outputs": [],
   "source": [
    "final_list = []\n",
    "num = 0\n",
    "for i in range(4142):\n",
    "    segment = []\n",
    "    for i in range(7):\n",
    "        segment.append(song_info[num])\n",
    "        num += 1\n",
    "    final_list.append(segment)  "
   ]
  },
  {
   "cell_type": "code",
   "execution_count": 9,
   "metadata": {},
   "outputs": [],
   "source": [
    "song_df = pd.DataFrame(final_list, columns = ['share','artist','song','date_certified','label','details','space'])"
   ]
  },
  {
   "cell_type": "markdown",
   "metadata": {},
   "source": [
    "- Dropping Columns = 'share','details','space' , because they are irrelavant to my needs"
   ]
  },
  {
   "cell_type": "code",
   "execution_count": 1,
   "metadata": {},
   "outputs": [],
   "source": [
    "song_df.drop(columns = ['share','details','space'] ,inplace = True)"
   ]
  },
  {
   "cell_type": "code",
   "execution_count": 29,
   "metadata": {},
   "outputs": [],
   "source": [
    "df = pd.concat([song_df ,awards], axis = 1, join = 'outer')"
   ]
  },
  {
   "cell_type": "markdown",
   "metadata": {},
   "source": [
    "#### Exporting my Data Frame to a csv, in order to use the in next notebook"
   ]
  },
  {
   "cell_type": "code",
   "execution_count": 31,
   "metadata": {},
   "outputs": [],
   "source": [
    "df.to_csv('../00_Data/df_riaa.csv', index = False)"
   ]
  }
 ],
 "metadata": {
  "kernelspec": {
   "display_name": "Python 3",
   "language": "python",
   "name": "python3"
  },
  "language_info": {
   "codemirror_mode": {
    "name": "ipython",
    "version": 3
   },
   "file_extension": ".py",
   "mimetype": "text/x-python",
   "name": "python",
   "nbconvert_exporter": "python",
   "pygments_lexer": "ipython3",
   "version": "3.6.5"
  }
 },
 "nbformat": 4,
 "nbformat_minor": 2
}
