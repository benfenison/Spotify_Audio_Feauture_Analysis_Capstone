{
 "cells": [
  {
   "cell_type": "markdown",
   "metadata": {},
   "source": [
    "<h1><center> Data Collection - Spotify Genres , Artist Followers, Explicity  </center></h1>"
   ]
  },
  {
   "attachments": {
    "Spotify-iOS-app-icon.png": {
     "image/png": "[encoded data removed]"
    }
   },
   "cell_type": "markdown",
   "metadata": {},
   "source": [
    "![Spotify-iOS-app-icon.png](attachment:Spotify-iOS-app-icon.png)"
   ]
  },
  {
   "cell_type": "code",
   "execution_count": 8,
   "metadata": {},
   "outputs": [],
   "source": [
    "from spotipy.oauth2 import SpotifyClientCredentials\n",
    "import json\n",
    "\n",
    "import spotipy\n",
    "import spotipy.util as util\n",
    "import time\n",
    "import sys\n",
    "\n",
    "import pandas as pd\n",
    "import numpy as np"
   ]
  },
  {
   "cell_type": "code",
   "execution_count": 129,
   "metadata": {},
   "outputs": [],
   "source": [
    "df = pd.read_csv('../00_Data/df_for_eda.csv')"
   ]
  },
  {
   "cell_type": "markdown",
   "metadata": {},
   "source": [
    "### Client Authorization token"
   ]
  },
  {
   "cell_type": "code",
   "execution_count": 92,
   "metadata": {},
   "outputs": [],
   "source": [
    "scope = 'user-library-read'\n",
    "\n",
    "if len(sys.argv) > 1:\n",
    "    username = sys.argv[1]\n",
    "else:\n",
    "    print (\"Usage: %s username\" % (sys.argv[0],))\n",
    "    sys.exit()\n",
    "\n",
    "token = util.prompt_for_user_token(username,scope,client_id='23e7ed135658410698818505b543dabb',client_secret='a86d41a058e64658b83d7c5900dff17f',redirect_uri='http://localhost/')\n",
    "\n",
    "\n",
    "client_credentials_manager = SpotifyClientCredentials(client_id= '23e7ed135658410698818505b543dabb',\n",
    "                                                      client_secret= 'a86d41a058e64658b83d7c5900dff17f')\n",
    "sp = spotipy.Spotify(client_credentials_manager=client_credentials_manager , auth = token )"
   ]
  },
  {
   "cell_type": "markdown",
   "metadata": {},
   "source": [
    "### Function to acquire the genre(s) that each artist sings along with their followers"
   ]
  },
  {
   "cell_type": "markdown",
   "metadata": {},
   "source": [
    "- Some artist belong to one Genre , while some Artist have multiple genres they perform\n",
    "- Spotify contains artist that perform over 1000 Genres"
   ]
  },
  {
   "cell_type": "code",
   "execution_count": 125,
   "metadata": {},
   "outputs": [],
   "source": [
    "def get_genres_followers(artist):\n",
    "    results = sp.search( artist , type = 'artist')\n",
    "    genres = results['artists']['items'][0]['genres']\n",
    "    followers = results['artists']['items'][0]['followers']['total']\n",
    "    list = []\n",
    "    list.append([genres , followers])\n",
    "    return list"
   ]
  },
  {
   "cell_type": "code",
   "execution_count": 144,
   "metadata": {},
   "outputs": [],
   "source": [
    "genres_list = []\n",
    "followers_list = []\n",
    "artist_list = []"
   ]
  },
  {
   "cell_type": "markdown",
   "metadata": {},
   "source": [
    "### For loop"
   ]
  },
  {
   "cell_type": "code",
   "execution_count": 145,
   "metadata": {},
   "outputs": [],
   "source": [
    "for i in list(df.artist.unique()):\n",
    "    try:\n",
    "        info = get_genres_followers(i)\n",
    "        for genres , followers in info:\n",
    "            genres_list.append(genres)\n",
    "            followers_list.append(followers)\n",
    "            artist_list.append(i)\n",
    "            \n",
    "    except:\n",
    "        time.sleep(1)\n",
    "        scope = 'user-library-read'\n",
    "\n",
    "        if len(sys.argv) > 1:\n",
    "            username = sys.argv[1]\n",
    "        else:\n",
    "            print (\"Usage: %s username\" % (sys.argv[0],))\n",
    "            sys.exit()\n",
    "\n",
    "        token = util.prompt_for_user_token(username,scope,client_id='23e7ed135658410698818505b543dabb',client_secret='a86d41a058e64658b83d7c5900dff17f',redirect_uri='http://localhost/')\n",
    "\n",
    "\n",
    "        client_credentials_manager = SpotifyClientCredentials(client_id= '23e7ed135658410698818505b543dabb',\n",
    "                                                              client_secret= 'a86d41a058e64658b83d7c5900dff17f')\n",
    "        sp = spotipy.Spotify(client_credentials_manager=client_credentials_manager , auth = token )"
   ]
  },
  {
   "cell_type": "code",
   "execution_count": 149,
   "metadata": {},
   "outputs": [],
   "source": [
    "first_dict = {'genres' : genres_list , \n",
    "             'followers' : followers_list,\n",
    "             'artists' : artist_list}\n",
    "genre_followers = pd.DataFrame(first_dict)"
   ]
  },
  {
   "cell_type": "markdown",
   "metadata": {},
   "source": [
    "### Function to get whether or not a track contain explicit lyrics"
   ]
  },
  {
   "cell_type": "markdown",
   "metadata": {},
   "source": [
    "- True = Track contains explicit lyrics\n",
    "- False = Track does not contain explicit lyrics"
   ]
  },
  {
   "cell_type": "code",
   "execution_count": 150,
   "metadata": {},
   "outputs": [],
   "source": [
    "def is_explicit(id):\n",
    "    result = sp.track(id)\n",
    "    explicit = result['explicit']\n",
    "    id_num = id\n",
    "    list = []\n",
    "    list.append([explicit , id_num])\n",
    "    return list"
   ]
  },
  {
   "cell_type": "code",
   "execution_count": 155,
   "metadata": {},
   "outputs": [],
   "source": [
    "is_explicit_list = []\n",
    "id_list = []"
   ]
  },
  {
   "cell_type": "code",
   "execution_count": 169,
   "metadata": {},
   "outputs": [],
   "source": [
    "for i in df.track_id:\n",
    "    try:\n",
    "        info = is_explicit(i)\n",
    "        for exp , id in info:\n",
    "            is_explicit_list.append(exp)\n",
    "            id_list.append(id)\n",
    "            \n",
    "    except:\n",
    "        time.sleep(1.5)\n",
    "        scope = 'user-library-read'\n",
    "\n",
    "        if len(sys.argv) > 1:\n",
    "            username = sys.argv[1]\n",
    "        else:\n",
    "            print (\"Usage: %s username\" % (sys.argv[0],))\n",
    "            sys.exit()\n",
    "\n",
    "        token = util.prompt_for_user_token(username,scope,client_id='23e7ed135658410698818505b543dabb',client_secret='a86d41a058e64658b83d7c5900dff17f',redirect_uri='http://localhost/')\n",
    "\n",
    "\n",
    "        client_credentials_manager = SpotifyClientCredentials(client_id= '23e7ed135658410698818505b543dabb',\n",
    "                                                              client_secret= 'a86d41a058e64658b83d7c5900dff17f')\n",
    "        sp = spotipy.Spotify(client_credentials_manager=client_credentials_manager , auth = token )"
   ]
  },
  {
   "cell_type": "code",
   "execution_count": 171,
   "metadata": {},
   "outputs": [],
   "source": [
    "second_dict = {'explicit' : is_explicit_list ,\n",
    "              'id' : id_list}"
   ]
  },
  {
   "cell_type": "code",
   "execution_count": 175,
   "metadata": {},
   "outputs": [],
   "source": [
    "genre_followers = pd.DataFrame(first_dict)"
   ]
  },
  {
   "cell_type": "code",
   "execution_count": 173,
   "metadata": {},
   "outputs": [],
   "source": [
    "explicit_df = pd.DataFrame(second_dict)"
   ]
  },
  {
   "cell_type": "markdown",
   "metadata": {},
   "source": [
    "### Export to CSV for later use"
   ]
  },
  {
   "cell_type": "code",
   "execution_count": 176,
   "metadata": {},
   "outputs": [],
   "source": [
    "genre_followers.to_csv('../00_Data/genre_followers.csv' , index = False)\n",
    "explicit_df.to_csv('../00_Data/explicit.csv' , index = False)"
   ]
  }
 ],
 "metadata": {
  "kernelspec": {
   "display_name": "Python 3",
   "language": "python",
   "name": "python3"
  },
  "language_info": {
   "codemirror_mode": {
    "name": "ipython",
    "version": 3
   },
   "file_extension": ".py",
   "mimetype": "text/x-python",
   "name": "python",
   "nbconvert_exporter": "python",
   "pygments_lexer": "ipython3",
   "version": "3.6.5"
  }
 },
 "nbformat": 4,
 "nbformat_minor": 2
}
