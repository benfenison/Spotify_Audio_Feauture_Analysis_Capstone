{
 "cells": [
  {
   "cell_type": "markdown",
   "metadata": {},
   "source": [
    "<h1><center> Data Collection - Spotify Tracks </center></h1>"
   ]
  },
  {
   "attachments": {
    "Spotify-iOS-app-icon.png": {
     "image/png": "[encoded data removed]"
    }
   },
   "cell_type": "markdown",
   "metadata": {},
   "source": [
    "![Spotify-iOS-app-icon.png](attachment:Spotify-iOS-app-icon.png)"
   ]
  },
  {
   "cell_type": "markdown",
   "metadata": {},
   "source": [
    "Using my complete album list, I will define a function in order to search an album by name and return:\n",
    "- Album Id\n",
    "- Release_date\n",
    "- Total Tracks In Album\n",
    "- Track title\n",
    "- Artist Name\n",
    "\n"
   ]
  },
  {
   "cell_type": "code",
   "execution_count": 2,
   "metadata": {},
   "outputs": [],
   "source": [
    "import pandas as pd\n",
    "import sys\n",
    "import spotipy\n",
    "import spotipy.util as util\n",
    "import time\n",
    "from spotipy.oauth2 import SpotifyClientCredentials"
   ]
  },
  {
   "cell_type": "code",
   "execution_count": 4,
   "metadata": {},
   "outputs": [],
   "source": [
    "album_list = pd.read_csv('../00_Data/albums_spot_list.csv')\n",
    "riaa_df = pd.read_csv('../00_Data/df_riaa.csv')\n",
    "album_list = pd.DataFrame(album_list['0'].unique())"
   ]
  },
  {
   "cell_type": "markdown",
   "metadata": {},
   "source": [
    "### Token Authorization"
   ]
  },
  {
   "cell_type": "code",
   "execution_count": 41,
   "metadata": {},
   "outputs": [],
   "source": [
    "scope = 'user-library-read'\n",
    "\n",
    "if len(sys.argv) > 1:\n",
    "    username = sys.argv[1]\n",
    "else:\n",
    "    print (\"Usage: %s username\" % (sys.argv[0],))\n",
    "    sys.exit()\n",
    "\n",
    "token = util.prompt_for_user_token(username,scope,client_id='23e7ed135658410698818505b543dabb',client_secret='a86d41a058e64658b83d7c5900dff17f',redirect_uri='http://localhost/')\n",
    "\n",
    "\n",
    "client_credentials_manager = SpotifyClientCredentials(client_id= '23e7ed135658410698818505b543dabb',\n",
    "                                                      client_secret= 'a86d41a058e64658b83d7c5900dff17f')\n",
    "sp = spotipy.Spotify(client_credentials_manager=client_credentials_manager , auth = token )"
   ]
  },
  {
   "cell_type": "markdown",
   "metadata": {},
   "source": [
    "### Definition to get track & track info from album"
   ]
  },
  {
   "cell_type": "code",
   "execution_count": 20,
   "metadata": {},
   "outputs": [],
   "source": [
    "def get_album_track(album):\n",
    "    results = sp.search(q = \"album:\" + album, type = \"album\")\n",
    "    album_id = results['albums']['items'][0]['uri']\n",
    "    release_date =  results['albums']['items'][0]['release_date']\n",
    "    total_tracks =  results['albums']['items'][0]['total_tracks']\n",
    "    tracks = sp.album_tracks(album_id )\n",
    "    artist_name = results['albums']['items'][0]['artists'][0]['name']\n",
    "    track_info = []\n",
    "    for track in tracks['items']:\n",
    "        track_info.append([track['name'] , track['id'], artist_name , album , release_date , total_tracks])\n",
    "    return track_info"
   ]
  },
  {
   "cell_type": "code",
   "execution_count": 5,
   "metadata": {},
   "outputs": [],
   "source": [
    "album_list_list = list(album_list[0])"
   ]
  },
  {
   "cell_type": "code",
   "execution_count": 6,
   "metadata": {},
   "outputs": [],
   "source": [
    "song_list = []\n",
    "song_id = []\n",
    "artist_list = []\n",
    "album_list = []\n",
    "release_date_list = []\n",
    "total_tracks_list = []"
   ]
  },
  {
   "cell_type": "markdown",
   "metadata": {},
   "source": [
    "\n",
    "#### Try & Excpet:\n",
    "   - If an error is encountered, a try block code execution will be stopped and then transferred down to the except block, once at the except block it will execute whatever is underneath the except block. The reason for this is because web scraping is time consuming, this particular scrape took 7-8 hours, my authorization token would expire about every 30 minutes. So using Try & Except lets the for loop run until my loop errors out and Spotify ask for my authorization code again, then the except block will present it and it can keep running"
   ]
  },
  {
   "cell_type": "code",
   "execution_count": 1,
   "metadata": {},
   "outputs": [],
   "source": [
    "for i in album_list_list:\n",
    "    try:\n",
    "        info = get_album_track(i)\n",
    "        time.sleep(.5)\n",
    "        for song,id, artist, album , release_date, total_tracks in info:\n",
    "            song_list.append(song)\n",
    "            song_id.append(id)\n",
    "            artist_list.append(artist)\n",
    "            album_list.append(album)\n",
    "            release_date_list.append(release_date)\n",
    "            total_tracks_list.append(total_tracks)\n",
    "    except:\n",
    "        time.sleep(3)"
   ]
  },
  {
   "cell_type": "markdown",
   "metadata": {},
   "source": [
    "*Since My albums list only accounted for each artist albums and not tracks they released as singles not in their album. I will repeat this proccess for my songs from RIAA so when I merge the two they are in the same format."
   ]
  },
  {
   "cell_type": "markdown",
   "metadata": {},
   "source": [
    "### Function for searching for track by artist instead of album ID"
   ]
  },
  {
   "cell_type": "code",
   "execution_count": 21,
   "metadata": {},
   "outputs": [],
   "source": [
    "def search_by_track_artist(artist, track):\n",
    "    info_riaa = sp.search(q='artist:{} track:{}'.format(artist, track))\n",
    "    track_riaa = info_riaa['tracks']['items'][0]['name']\n",
    "    track_id_riaa = info_riaa['tracks']['items'][0]['id']\n",
    "    release_date_riaa = info_riaa['tracks']['items'][0]['album']['release_date']\n",
    "    artist_riaa = info_riaa['tracks']['items'][0]['album']['artists'][0]['name']\n",
    "    total_tracks_riaa = info_riaa['tracks']['items'][0]['album']['total_tracks']\n",
    "    album_riaa = info_riaa['tracks']['items'][0]['album']['name']\n",
    "    riaa_info = []\n",
    "    riaa_info.append([track_riaa , track_id_riaa , artist_riaa ,album_riaa , release_date_riaa , total_tracks_riaa] )\n",
    "    \n",
    "    return riaa_info[0]"
   ]
  },
  {
   "cell_type": "code",
   "execution_count": 22,
   "metadata": {},
   "outputs": [],
   "source": [
    "riaa_for = riaa_df[['artist','song']]"
   ]
  },
  {
   "cell_type": "code",
   "execution_count": 33,
   "metadata": {},
   "outputs": [],
   "source": [
    "song_list_riaa = []\n",
    "song_id_riaa = []\n",
    "artist_list_riaa = []\n",
    "album_list_riaa = []\n",
    "release_date_list_riaa = []\n",
    "total_tracks_list_riaa = []\n",
    "award_list_riaa = []"
   ]
  },
  {
   "cell_type": "markdown",
   "metadata": {},
   "source": [
    "### Gathering Info"
   ]
  },
  {
   "cell_type": "markdown",
   "metadata": {},
   "source": [
    "- Using my function to grab track info for every single ablum in album list and append song aspects into respective list\n",
    "- Creating a dictionary for track aspect and track info in order to create an organized data frame"
   ]
  },
  {
   "cell_type": "code",
   "execution_count": 42,
   "metadata": {
    "scrolled": true
   },
   "outputs": [
    {
     "name": "stdout",
     "output_type": "stream",
     "text": [
      "retrying ...1secs\n"
     ]
    }
   ],
   "source": [
    "for i in range(4142):\n",
    "    try:\n",
    "        riaa_info = search_by_track_artist(riaa_for['artist'][i] , riaa_for['song'][i] )\n",
    "        song_list_riaa.append(riaa_info[0])\n",
    "        song_id_riaa.append(riaa_info[1] ) \n",
    "        artist_list_riaa.append(riaa_info[2]) \n",
    "        album_list_riaa.append(riaa_info[3]) \n",
    "        release_date_list_riaa.append(riaa_info[4]) \n",
    "        total_tracks_list_riaa.append(riaa_info[5])\n",
    "        award_list_riaa.append(riaa_df.award[i])\n",
    "    except:\n",
    "        time.sleep(2)"
   ]
  },
  {
   "cell_type": "code",
   "execution_count": 45,
   "metadata": {},
   "outputs": [],
   "source": [
    "df_dict_riaa = {\n",
    "    'track': song_list_riaa,\n",
    "    'track_id': song_id_riaa,\n",
    "    'artist': artist_list_riaa,\n",
    "    'album': album_list_riaa,\n",
    "    'release_date': release_date_list_riaa,\n",
    "    'total_tracks': total_tracks_list_riaa,\n",
    "    'award': award_list_riaa\n",
    "}"
   ]
  },
  {
   "cell_type": "code",
   "execution_count": 46,
   "metadata": {},
   "outputs": [],
   "source": [
    "riaa_songs_df = pd.DataFrame(df_dict_riaa)"
   ]
  },
  {
   "cell_type": "code",
   "execution_count": 47,
   "metadata": {},
   "outputs": [],
   "source": [
    "riaa_songs_df.to_csv('./Data/riaa_songs_df_with_ids.csv' , index = False)"
   ]
  },
  {
   "cell_type": "markdown",
   "metadata": {},
   "source": [
    "## Exporting RIAA songs & Album Songs to CSV for later use"
   ]
  },
  {
   "cell_type": "code",
   "execution_count": 1,
   "metadata": {},
   "outputs": [],
   "source": [
    "df_songs = pd.DataFrame(df_dict)"
   ]
  },
  {
   "cell_type": "code",
   "execution_count": 2,
   "metadata": {},
   "outputs": [],
   "source": [
    "df_songs.to_csv('../00_Data/df_songs.csv' , index = False)"
   ]
  }
 ],
 "metadata": {
  "kernelspec": {
   "display_name": "Python 3",
   "language": "python",
   "name": "python3"
  },
  "language_info": {
   "codemirror_mode": {
    "name": "ipython",
    "version": 3
   },
   "file_extension": ".py",
   "mimetype": "text/x-python",
   "name": "python",
   "nbconvert_exporter": "python",
   "pygments_lexer": "ipython3",
   "version": "3.6.5"
  }
 },
 "nbformat": 4,
 "nbformat_minor": 2
}
