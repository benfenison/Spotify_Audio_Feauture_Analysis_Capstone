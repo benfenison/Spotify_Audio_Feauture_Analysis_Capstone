{
 "cells": [
  {
   "cell_type": "markdown",
   "metadata": {},
   "source": [
    "<h1><center>Data Collection - Spotify Track Features </center></h1>"
   ]
  },
  {
   "attachments": {
    "Spotify-iOS-app-icon.png": {
     "image/png": "[encoded data removed]"
    }
   },
   "cell_type": "markdown",
   "metadata": {},
   "source": [
    "![Spotify-iOS-app-icon.png](attachment:Spotify-iOS-app-icon.png)"
   ]
  },
  {
   "cell_type": "markdown",
   "metadata": {},
   "source": [
    "### Collecting Track Features"
   ]
  },
  {
   "cell_type": "markdown",
   "metadata": {},
   "source": [
    "##### Feature Dictionary"
   ]
  },
  {
   "cell_type": "markdown",
   "metadata": {},
   "source": [
    "|                                                                         Danceability                                                                         |                                                       Energy                                                       |                                                            Key                                                           |                                                                        Liveness                                                                        |                                      Acousticness                                      |                                                                                                              Duration                                                                                                             |                  Time Signature                  |\n",
    "|:------------------------------------------------------------------------------------------------------------------------------------------------------------:|:------------------------------------------------------------------------------------------------------------------:|:------------------------------------------------------------------------------------------------------------------------:|:------------------------------------------------------------------------------------------------------------------------------------------------------:|:--------------------------------------------------------------------------------------:|:---------------------------------------------------------------------------------------------------------------------------------------------------------------------------------------------------------------------------------:|:------------------------------------------------:|\n",
    "|   How suitable a track is for dancing based on a  combination of musical elements including tempo,  rhythm stability, beat strength, and overall regularity. |          Energy is a measure from 0.0 to 1.0 and  represents a perceptual measure of intensity and activity.       |                                        Pitches using standard Pitch Class notation.                                      |   Detects the presence of an audience in the recording.  Higher liveness values represent an increased probability that  the track was performed live. | Acousticness:  A confidence measure from 0.0 to 1.0 of whether  the track is acoustic. |                                                                                                    Length of the track in Seconds                                                                                                 |    How many beats are in each bar (or measure).  |"
   ]
  },
  {
   "cell_type": "markdown",
   "metadata": {},
   "source": [
    "|                Instruentalness                |                                                 Loudness                                                 |                                                        Mode                                                        |                     Speechiness                    |                                Tempo                                |                                                                                                          Valence                                                                                                          |            Track Number           |\n",
    "|:---------------------------------------------:|:--------------------------------------------------------------------------------------------------------:|:------------------------------------------------------------------------------------------------------------------:|:--------------------------------------------------:|:-------------------------------------------------------------------:|:-------------------------------------------------------------------------------------------------------------------------------------------------------------------------------------------------------------------------:|:---------------------------------:|\n",
    "|  Predicts whether a track contains no vocals. |  The overall loudness of a track in decibels (dB).  Loudness values are averaged across the entire track |  Indicates the modality (major or minor) of a track,  the type of scale from which its melodic content is derived. |  Detects the presence of spoken words  in a track. |  The overall estimated tempo of a track in beats  per minute (BPM). |   A measure from 0.0 to 1.0 describing the musical  positiveness conveyed by a track. Tracks with high valence  sound more positive (e.g.cheerful), while tracks with low valence sound more negative (e.g. sad , angry). | Position of track on whole album  |"
   ]
  },
  {
   "cell_type": "code",
   "execution_count": 2,
   "metadata": {},
   "outputs": [],
   "source": [
    "from spotipy.oauth2 import SpotifyClientCredentials\n",
    "import json\n",
    "\n",
    "import spotipy\n",
    "import spotipy.util as util\n",
    "import time\n",
    "import sys\n",
    "\n",
    "import pandas as pd\n",
    "import numpy as np"
   ]
  },
  {
   "cell_type": "markdown",
   "metadata": {},
   "source": [
    "### Client Authorization Token"
   ]
  },
  {
   "cell_type": "code",
   "execution_count": 3,
   "metadata": {},
   "outputs": [],
   "source": [
    "scope = 'user-library-read'\n",
    "\n",
    "if len(sys.argv) > 1:\n",
    "    username = sys.argv[1]\n",
    "else:\n",
    "    print (\"Usage: %s username\" % (sys.argv[0],))\n",
    "    sys.exit()\n",
    "\n",
    "token = util.prompt_for_user_token(username,scope,client_id='23e7ed135658410698818505b543dabb',client_secret='a86d41a058e64658b83d7c5900dff17f',redirect_uri='http://localhost/')\n",
    "\n",
    "\n",
    "client_credentials_manager = SpotifyClientCredentials(client_id= '23e7ed135658410698818505b543dabb',\n",
    "                                                      client_secret= 'a86d41a058e64658b83d7c5900dff17f')\n",
    "sp = spotipy.Spotify(client_credentials_manager=client_credentials_manager , auth = token )"
   ]
  },
  {
   "cell_type": "markdown",
   "metadata": {},
   "source": [
    "### Reading in my DataFrames"
   ]
  },
  {
   "cell_type": "code",
   "execution_count": 124,
   "metadata": {},
   "outputs": [],
   "source": [
    "df = pd.read_csv('../00_Data/df_songs.csv')\n",
    "riaa_df_good = pd.read_csv('../00_Data/riaa_songs_df.csv')\n",
    "\n",
    "\n",
    "riaa_df = pd.read_csv('../00_Data/df_riaa.csv')"
   ]
  },
  {
   "cell_type": "code",
   "execution_count": 4,
   "metadata": {},
   "outputs": [],
   "source": [
    "df_concat = pd.concat([df , riaa_df_good] , axis = 0 , join = 'outer' , ignore_index= True)\n",
    "df_for_features = df_concat.drop_duplicates(subset = ['track','artist','release_date'])"
   ]
  },
  {
   "cell_type": "markdown",
   "metadata": {},
   "source": [
    "### Get_Audio_Features Function"
   ]
  },
  {
   "cell_type": "markdown",
   "metadata": {},
   "source": [
    " - Function for extract audio features from Spotify using the Track ID & appending each features to its own list"
   ]
  },
  {
   "cell_type": "code",
   "execution_count": 4,
   "metadata": {},
   "outputs": [],
   "source": [
    "def get_audio_features(track):\n",
    "    info = sp.audio_features(track)[0]\n",
    "    dance = info['danceability']\n",
    "    energy = info['energy']\n",
    "    key = info['key']\n",
    "    loudness = info['loudness']\n",
    "    mode = info['mode']\n",
    "    speech = info['speechiness']\n",
    "    acoust = info['acousticness']\n",
    "    instru = info['instrumentalness']\n",
    "    live = info['liveness']\n",
    "    valence = info['valence']\n",
    "    tempo = info['tempo']\n",
    "    duration = info['duration_ms']\n",
    "    time_signature = info['time_signature']\n",
    "    track_num = sp.track(track)\n",
    "    track_number = track_num['track_number']\n",
    "    track_info = []\n",
    "    track_info.append([dance , energy , key , loudness , mode , speech , acoust , \n",
    "                       instru , live , valence , tempo , duration , time_signature , track, track_number])\n",
    "    return track_info"
   ]
  },
  {
   "cell_type": "code",
   "execution_count": 197,
   "metadata": {},
   "outputs": [],
   "source": [
    "danceability_list = []\n",
    "energy_list = []\n",
    "key_list = []\n",
    "loudness_list = []\n",
    "mode_list = []\n",
    "speechiness_list = []\n",
    "acousticness_list = []\n",
    "instrumentalness_list = []\n",
    "liveness_list = []\n",
    "valence_list = []\n",
    "tempo_list = []\n",
    "duration_ms_list = []\n",
    "time_signature_list = []\n",
    "track_number_list = []\n",
    "track_ids = []"
   ]
  },
  {
   "cell_type": "markdown",
   "metadata": {},
   "source": [
    "#### For loop :\n",
    "   - Iterating through each track in my track list and applying my 'get_audio_features' function to it\n",
    "#### Try & Excpet"
   ]
  },
  {
   "cell_type": "code",
   "execution_count": 277,
   "metadata": {},
   "outputs": [
    {
     "name": "stdout",
     "output_type": "stream",
     "text": [
      "retrying ...1secs\n",
      "retrying ...1secs\n",
      "retrying ...1secs\n",
      "retrying ...1secs\n",
      "retrying ...1secs\n",
      "retrying ...1secs\n",
      "retrying ...1secs\n",
      "retrying ...1secs\n",
      "retrying ...1secs\n",
      "retrying ...1secs\n"
     ]
    }
   ],
   "source": [
    "for i in df_for_features.track_id:\n",
    "    try:\n",
    "        info = get_audio_features(i)\n",
    "        for dance , energy , key , loudness , mode , speech , acoust , instru , live , valence , tempo , duration , time_signature, track , track_number in info:\n",
    "            danceability_list.append(dance)\n",
    "            energy_list.append(energy)\n",
    "            key_list.append(key)\n",
    "            loudness_list.append(loudness)\n",
    "            mode_list.append(mode)\n",
    "            speechiness_list.append(speech) \n",
    "            acousticness_list.append(acoust) \n",
    "            instrumentalness_list.append(instru) \n",
    "            liveness_list.append(live) \n",
    "            valence_list.append(valence) \n",
    "            tempo_list.append(tempo) \n",
    "            duration_ms_list.append(duration)  \n",
    "            time_signature_list.append(time_signature)\n",
    "            track_ids.append(track)\n",
    "            track_number_list.append(track_number)\n",
    "    except:\n",
    "        time.sleep(1)\n",
    "        scope = 'user-library-read'\n",
    "\n",
    "        if len(sys.argv) > 1:\n",
    "            username = sys.argv[1]\n",
    "        else:\n",
    "            print (\"Usage: %s username\" % (sys.argv[0],))\n",
    "            sys.exit()\n",
    "\n",
    "        token = util.prompt_for_user_token(username,scope,client_id='23e7ed135658410698818505b543dabb',client_secret='a86d41a058e64658b83d7c5900dff17f',redirect_uri='http://localhost/')\n",
    "\n",
    "\n",
    "        client_credentials_manager = SpotifyClientCredentials(client_id= '23e7ed135658410698818505b543dabb',\n",
    "                                                              client_secret= 'a86d41a058e64658b83d7c5900dff17f')\n",
    "        sp = spotipy.Spotify(client_credentials_manager=client_credentials_manager , auth = token )"
   ]
  },
  {
   "cell_type": "markdown",
   "metadata": {},
   "source": [
    "### Creating Dictionary of my data to creat a clean DataFrame"
   ]
  },
  {
   "cell_type": "code",
   "execution_count": 280,
   "metadata": {},
   "outputs": [],
   "source": [
    "df_dict_features = {'danceability' :danceability_list ,\n",
    "'energy' : energy_list,\n",
    "'key' : key_list,\n",
    "'loudness' : loudness_list,\n",
    "'mode' : mode_list,\n",
    "'speechiness' : speechiness_list,\n",
    "'accousticness' : acousticness_list,\n",
    "'instrumentalness' : instrumentalness_list,\n",
    "'liveness' : liveness_list,\n",
    "'valence' : valence_list,\n",
    "'tempo' : tempo_list,\n",
    "'duration_ms' : duration_ms_list,\n",
    "'time_signature' : time_signature_list,\n",
    "'track': track_ids,\n",
    "'track_number': track_number_list}"
   ]
  },
  {
   "cell_type": "code",
   "execution_count": 281,
   "metadata": {},
   "outputs": [],
   "source": [
    "df_features = pd.DataFrame(df_dict_features)"
   ]
  },
  {
   "cell_type": "code",
   "execution_count": 283,
   "metadata": {},
   "outputs": [],
   "source": [
    "df_features.to_csv('./Data/df_features_good.csv',index = False)"
   ]
  },
  {
   "cell_type": "markdown",
   "metadata": {},
   "source": [
    "#### Setting Index"
   ]
  },
  {
   "cell_type": "markdown",
   "metadata": {},
   "source": [
    "- Setting the index to track ID for my original data frame & my track feature data frame for an easy and efficient merge"
   ]
  },
  {
   "cell_type": "code",
   "execution_count": 340,
   "metadata": {},
   "outputs": [],
   "source": [
    "df_left = df_for_features.set_index(df_for_features.track_id)\n",
    "df_right = df_features.set_index(df_features.track )"
   ]
  },
  {
   "cell_type": "code",
   "execution_count": 341,
   "metadata": {},
   "outputs": [],
   "source": [
    "df_merged = df_left.merge(df_right , left_on = df_left.index , right_on= df_right.index)"
   ]
  },
  {
   "cell_type": "markdown",
   "metadata": {},
   "source": [
    "#### Dropping duplicate columns & renaming columns for send off to CSV"
   ]
  },
  {
   "cell_type": "code",
   "execution_count": 343,
   "metadata": {
    "scrolled": true
   },
   "outputs": [],
   "source": [
    "df_merged.drop(columns = ['track_y','track_id'] , inplace= True)"
   ]
  },
  {
   "cell_type": "code",
   "execution_count": 346,
   "metadata": {},
   "outputs": [],
   "source": [
    "df_merged.rename(columns = {'key_0': 'track_id', 'track_x' : 'track', 'total_tracks': 'total_album_tracks'} , inplace = True)"
   ]
  },
  {
   "cell_type": "code",
   "execution_count": 347,
   "metadata": {},
   "outputs": [],
   "source": [
    "df_merged.to_csv('../00_Data/df_merged.csv',index = False)"
   ]
  }
 ],
 "metadata": {
  "kernelspec": {
   "display_name": "Python 3",
   "language": "python",
   "name": "python3"
  },
  "language_info": {
   "codemirror_mode": {
    "name": "ipython",
    "version": 3
   },
   "file_extension": ".py",
   "mimetype": "text/x-python",
   "name": "python",
   "nbconvert_exporter": "python",
   "pygments_lexer": "ipython3",
   "version": "3.6.5"
  }
 },
 "nbformat": 4,
 "nbformat_minor": 2
}
